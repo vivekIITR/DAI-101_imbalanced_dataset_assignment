{
 "cells": [
  {
   "cell_type": "code",
   "execution_count": 15,
   "id": "8acb996e",
   "metadata": {},
   "outputs": [],
   "source": [
    "# Importing necessary libraries\n",
    "import pandas as pd\n",
    "import numpy as np\n",
    "from sklearn.model_selection import train_test_split\n",
    "from sklearn.ensemble import RandomForestClassifier\n",
    "from sklearn.metrics import classification_report, roc_auc_score\n",
    "from imblearn.over_sampling import SMOTE\n",
    "from imblearn.under_sampling import RandomUnderSampler\n",
    "from imblearn.combine import SMOTEENN\n",
    "from imblearn.under_sampling import TomekLinks\n",
    "from sklearn.utils.class_weight import compute_class_weight \n",
    "from sklearn.preprocessing import LabelEncoder"
   ]
  },
  {
   "cell_type": "code",
   "execution_count": 16,
   "id": "303f0cb3",
   "metadata": {},
   "outputs": [],
   "source": [
    "from imblearn.over_sampling import SMOTE\n",
    "from imblearn.under_sampling import RandomUnderSampler\n",
    "from imblearn.combine import SMOTEENN\n",
    "from imblearn.under_sampling import TomekLinks\n",
    "from sklearn.utils.class_weight import compute_class_weight "
   ]
  },
  {
   "cell_type": "code",
   "execution_count": 17,
   "id": "6eae2817",
   "metadata": {},
   "outputs": [],
   "source": [
    "data=pd.read_csv(\"weatherAUS.csv\")"
   ]
  },
  {
   "cell_type": "code",
   "execution_count": 18,
   "id": "6f0c42e6",
   "metadata": {},
   "outputs": [
    {
     "name": "stdout",
     "output_type": "stream",
     "text": [
      "<class 'pandas.core.frame.DataFrame'>\n",
      "RangeIndex: 145460 entries, 0 to 145459\n",
      "Data columns (total 23 columns):\n",
      " #   Column         Non-Null Count   Dtype  \n",
      "---  ------         --------------   -----  \n",
      " 0   Date           145460 non-null  object \n",
      " 1   Location       145460 non-null  object \n",
      " 2   MinTemp        143975 non-null  float64\n",
      " 3   MaxTemp        144199 non-null  float64\n",
      " 4   Rainfall       142199 non-null  float64\n",
      " 5   Evaporation    82670 non-null   float64\n",
      " 6   Sunshine       75625 non-null   float64\n",
      " 7   WindGustDir    135134 non-null  object \n",
      " 8   WindGustSpeed  135197 non-null  float64\n",
      " 9   WindDir9am     134894 non-null  object \n",
      " 10  WindDir3pm     141232 non-null  object \n",
      " 11  WindSpeed9am   143693 non-null  float64\n",
      " 12  WindSpeed3pm   142398 non-null  float64\n",
      " 13  Humidity9am    142806 non-null  float64\n",
      " 14  Humidity3pm    140953 non-null  float64\n",
      " 15  Pressure9am    130395 non-null  float64\n",
      " 16  Pressure3pm    130432 non-null  float64\n",
      " 17  Cloud9am       89572 non-null   float64\n",
      " 18  Cloud3pm       86102 non-null   float64\n",
      " 19  Temp9am        143693 non-null  float64\n",
      " 20  Temp3pm        141851 non-null  float64\n",
      " 21  RainToday      142199 non-null  object \n",
      " 22  RainTomorrow   142193 non-null  object \n",
      "dtypes: float64(16), object(7)\n",
      "memory usage: 25.5+ MB\n"
     ]
    }
   ],
   "source": [
    "data.info()"
   ]
  },
  {
   "cell_type": "code",
   "execution_count": 19,
   "id": "87a38eb3",
   "metadata": {},
   "outputs": [],
   "source": [
    "data = data.drop(columns=['Date'])\n",
    "data=data.dropna()"
   ]
  },
  {
   "cell_type": "code",
   "execution_count": 20,
   "id": "93ffc9b4",
   "metadata": {},
   "outputs": [
    {
     "data": {
      "text/plain": [
       "Location         0\n",
       "MinTemp          0\n",
       "MaxTemp          0\n",
       "Rainfall         0\n",
       "Evaporation      0\n",
       "Sunshine         0\n",
       "WindGustDir      0\n",
       "WindGustSpeed    0\n",
       "WindDir9am       0\n",
       "WindDir3pm       0\n",
       "WindSpeed9am     0\n",
       "WindSpeed3pm     0\n",
       "Humidity9am      0\n",
       "Humidity3pm      0\n",
       "Pressure9am      0\n",
       "Pressure3pm      0\n",
       "Cloud9am         0\n",
       "Cloud3pm         0\n",
       "Temp9am          0\n",
       "Temp3pm          0\n",
       "RainToday        0\n",
       "RainTomorrow     0\n",
       "dtype: int64"
      ]
     },
     "execution_count": 20,
     "metadata": {},
     "output_type": "execute_result"
    }
   ],
   "source": [
    "data.isnull().sum()"
   ]
  },
  {
   "cell_type": "code",
   "execution_count": 21,
   "id": "9c3a43ad",
   "metadata": {},
   "outputs": [],
   "source": [
    "label_encoder = LabelEncoder()\n",
    "data['Location'] = label_encoder.fit_transform(data['Location'])\n",
    "data['WindGustDir'] = label_encoder.fit_transform(data['WindGustDir'])\n",
    "data['WindDir9am'] = label_encoder.fit_transform(data['WindDir9am'])\n",
    "data['WindDir3pm'] = label_encoder.fit_transform(data['WindDir3pm'])\n",
    "data['RainToday'] = label_encoder.fit_transform(data['RainToday'])\n",
    "data['RainTomorrow'] = label_encoder.fit_transform(data['RainTomorrow'])\n",
    "data['Evaporation'] = label_encoder.fit_transform(data['Evaporation'])\n",
    "data['Sunshine'] = label_encoder.fit_transform(data['Sunshine'])\n",
    "data['Cloud9am'] = label_encoder.fit_transform(data['Cloud9am'])\n",
    "data['Cloud3pm'] = label_encoder.fit_transform(data['Cloud3pm'])"
   ]
  },
  {
   "cell_type": "code",
   "execution_count": 22,
   "id": "7aeb4ce5",
   "metadata": {},
   "outputs": [],
   "source": [
    "X = data.drop('RainTomorrow', axis=1)\n",
    "y = data['RainTomorrow']\n",
    "\n",
    "# Split into training and testing sets\n",
    "X_train, X_test, y_train, y_test = train_test_split(X, y, test_size=0.2, random_state=42) "
   ]
  },
  {
   "cell_type": "code",
   "execution_count": 24,
   "id": "ad898048",
   "metadata": {},
   "outputs": [],
   "source": [
    "from collections import Counter"
   ]
  },
  {
   "cell_type": "code",
   "execution_count": 25,
   "id": "9e9752f8",
   "metadata": {},
   "outputs": [
    {
     "name": "stdout",
     "output_type": "stream",
     "text": [
      "Original class distribution: Counter({0: 35194, 1: 9942})\n",
      "Original class distribution: Counter({0: 9942, 1: 9942})\n"
     ]
    }
   ],
   "source": [
    "# Random Under Sampling\n",
    "print(\"Original class distribution:\", Counter(y_train))\n",
    "rus = RandomUnderSampler(random_state=42)\n",
    "X_rus, y_rus = rus.fit_resample(X_train, y_train) \n",
    "print(\"Original class distribution:\", Counter(y_rus))"
   ]
  },
  {
   "cell_type": "code",
   "execution_count": 26,
   "id": "2ac313f2",
   "metadata": {},
   "outputs": [
    {
     "name": "stdout",
     "output_type": "stream",
     "text": [
      "Original class distribution: Counter({0: 35194, 1: 9942})\n",
      "Original class distribution: Counter({0: 35194, 1: 35194})\n"
     ]
    }
   ],
   "source": [
    "# Random Over Sampling\n",
    "from imblearn.over_sampling import RandomOverSampler\n",
    "print(\"Original class distribution:\", Counter(y_train))\n",
    "ros = RandomOverSampler(random_state=42)\n",
    "X_ros, y_ros = ros.fit_resample(X_train, y_train) \n",
    "print(\"Original class distribution:\", Counter(y_ros))"
   ]
  },
  {
   "cell_type": "code",
   "execution_count": 27,
   "id": "0e6c3b7d",
   "metadata": {},
   "outputs": [
    {
     "name": "stdout",
     "output_type": "stream",
     "text": [
      "Original class distribution: Counter({0: 35194, 1: 9942})\n",
      "Original class distribution: Counter({0: 35194, 1: 35194})\n"
     ]
    }
   ],
   "source": [
    "# SMOTE(Synthetic Minority Oversampling Technique)\n",
    "print(\"Original class distribution:\", Counter(y_train))\n",
    "smote = SMOTE(random_state=42)\n",
    "X_smote, y_smote = smote.fit_resample(X_train, y_train)\n",
    "print(\"Original class distribution:\", Counter(y_smote))"
   ]
  },
  {
   "cell_type": "code",
   "execution_count": 28,
   "id": "15eeffb3",
   "metadata": {},
   "outputs": [],
   "source": [
    "# Tomek Links\n",
    "tl = TomekLinks()\n",
    "X_tl, y_tl = tl.fit_resample(X_train, y_train) "
   ]
  },
  {
   "cell_type": "code",
   "execution_count": null,
   "id": "e3033186",
   "metadata": {},
   "outputs": [],
   "source": []
  },
  {
   "cell_type": "code",
   "execution_count": 29,
   "id": "e4c319dc",
   "metadata": {},
   "outputs": [
    {
     "data": {
      "text/plain": [
       "array([0.64124567, 2.2699658 ])"
      ]
     },
     "execution_count": 29,
     "metadata": {},
     "output_type": "execute_result"
    }
   ],
   "source": [
    "# Class Weights\n",
    "class_weights = compute_class_weight(class_weight='balanced', classes=np.unique(y_train), y=y_train)\n",
    "class_weights_dict = dict(enumerate(class_weights)) \n",
    "class_weights"
   ]
  },
  {
   "cell_type": "code",
   "execution_count": 30,
   "id": "28f19865",
   "metadata": {},
   "outputs": [],
   "source": [
    "# Function to evaluate model performance\n",
    "def evaluate_model(X_train, y_train, X_test, y_test, class_weights=None):\n",
    "    model = RandomForestClassifier(class_weight=class_weights, random_state=42)\n",
    "    model.fit(X_train, y_train)\n",
    "    y_pred = model.predict(X_test)\n",
    "    y_prob = model.predict_proba(X_test)[:, 1]\n",
    "    \n",
    "    print(classification_report(y_test, y_pred))\n",
    "    print(\"AUC:\", roc_auc_score(y_test, y_prob)) "
   ]
  },
  {
   "cell_type": "code",
   "execution_count": 31,
   "id": "6ade367e",
   "metadata": {},
   "outputs": [
    {
     "name": "stdout",
     "output_type": "stream",
     "text": [
      "Random Undersampling:\n",
      "              precision    recall  f1-score   support\n",
      "\n",
      "           0       0.94      0.80      0.86      8799\n",
      "           1       0.54      0.81      0.64      2485\n",
      "\n",
      "    accuracy                           0.80     11284\n",
      "   macro avg       0.74      0.81      0.75     11284\n",
      "weighted avg       0.85      0.80      0.82     11284\n",
      "\n",
      "AUC: 0.8928300568269258\n",
      "\n",
      "Random Oversampling:\n",
      "              precision    recall  f1-score   support\n",
      "\n",
      "           0       0.89      0.93      0.91      8799\n",
      "           1       0.72      0.60      0.65      2485\n",
      "\n",
      "    accuracy                           0.86     11284\n",
      "   macro avg       0.80      0.77      0.78     11284\n",
      "weighted avg       0.85      0.86      0.86     11284\n",
      "\n",
      "AUC: 0.8967990006180967\n",
      "\n",
      "SMOTE:\n",
      "              precision    recall  f1-score   support\n",
      "\n",
      "           0       0.91      0.89      0.90      8799\n",
      "           1       0.64      0.67      0.66      2485\n",
      "\n",
      "    accuracy                           0.85     11284\n",
      "   macro avg       0.77      0.78      0.78     11284\n",
      "weighted avg       0.85      0.85      0.85     11284\n",
      "\n",
      "AUC: 0.8949000972535978\n",
      "\n",
      "Class Weights:\n",
      "              precision    recall  f1-score   support\n",
      "\n",
      "           0       0.87      0.96      0.91      8799\n",
      "           1       0.78      0.50      0.61      2485\n",
      "\n",
      "    accuracy                           0.86     11284\n",
      "   macro avg       0.83      0.73      0.76     11284\n",
      "weighted avg       0.85      0.86      0.85     11284\n",
      "\n",
      "AUC: 0.8960263913289948\n"
     ]
    }
   ],
   "source": [
    "# Evaluate each sampling technique\n",
    "print(\"Random Undersampling:\")\n",
    "evaluate_model(X_rus, y_rus, X_test, y_test)\n",
    "\n",
    "print(\"\\nRandom Oversampling:\")\n",
    "evaluate_model(X_ros, y_ros, X_test, y_test)\n",
    "\n",
    "print(\"\\nSMOTE:\")\n",
    "evaluate_model(X_smote, y_smote, X_test, y_test)\n",
    "\n",
    "#print(\"\\nTomek Links:\")\n",
    "#evaluate_model(X_tl, y_tl, X_test, y_test)\n",
    "\n",
    "print(\"\\nClass Weights:\")\n",
    "evaluate_model(X_train, y_train, X_test, y_test, class_weights_dict) "
   ]
  },
  {
   "cell_type": "code",
   "execution_count": null,
   "id": "f0dcac35",
   "metadata": {},
   "outputs": [],
   "source": []
  }
 ],
 "metadata": {
  "kernelspec": {
   "display_name": "Python [conda env:ds_env] *",
   "language": "python",
   "name": "conda-env-ds_env-py"
  },
  "language_info": {
   "codemirror_mode": {
    "name": "ipython",
    "version": 3
   },
   "file_extension": ".py",
   "mimetype": "text/x-python",
   "name": "python",
   "nbconvert_exporter": "python",
   "pygments_lexer": "ipython3",
   "version": "3.12.4"
  }
 },
 "nbformat": 4,
 "nbformat_minor": 5
}
